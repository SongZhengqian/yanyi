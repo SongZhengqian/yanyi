{
 "cells": [
  {
   "cell_type": "code",
   "execution_count": 5,
   "metadata": {},
   "outputs": [],
   "source": [
    "import d2lzh as d2l\n",
    "from mxnet import gluon,init\n",
    "from mxnet.gluon import loss as gloss,nn"
   ]
  },
  {
   "cell_type": "code",
   "execution_count": 3,
   "metadata": {},
   "outputs": [],
   "source": [
    "net = nn.Sequential()\n",
    "net.add(nn.Dense(256,activation='relu'),nn.Dense(10))\n",
    "net.initialize()"
   ]
  },
  {
   "cell_type": "code",
   "execution_count": 6,
   "metadata": {},
   "outputs": [
    {
     "name": "stdout",
     "output_type": "stream",
     "text": [
      "epoch 1, loss 0.7428, train acc 0.729, test acc 0.790\n",
      "epoch 2, loss 0.4728, train acc 0.826, test acc 0.853\n",
      "epoch 3, loss 0.4177, train acc 0.846, test acc 0.857\n",
      "epoch 4, loss 0.3835, train acc 0.858, test acc 0.872\n",
      "epoch 5, loss 0.3630, train acc 0.866, test acc 0.873\n",
      "epoch 6, loss 0.3426, train acc 0.874, test acc 0.876\n",
      "epoch 7, loss 0.3295, train acc 0.878, test acc 0.880\n",
      "epoch 8, loss 0.3168, train acc 0.883, test acc 0.882\n",
      "epoch 9, loss 0.3081, train acc 0.886, test acc 0.880\n",
      "epoch 10, loss 0.2972, train acc 0.890, test acc 0.883\n"
     ]
    }
   ],
   "source": [
    "batch_size=256\n",
    "train_iter,test_iter=d2l.load_data_fashion_mnist(batch_size)\n",
    "\n",
    "loss=gloss.SoftmaxCrossEntropyLoss()\n",
    "trainer=gluon.Trainer(net.collect_params(),'sgd',{'learning_rate':0.5})\n",
    "num_epochs=10\n",
    "d2l.train_ch3(net,train_iter,test_iter,loss,num_epochs,batch_size,None,None,trainer)"
   ]
  },
  {
   "cell_type": "code",
   "execution_count": null,
   "metadata": {},
   "outputs": [],
   "source": []
  }
 ],
 "metadata": {
  "kernelspec": {
   "display_name": "Python 3",
   "language": "python",
   "name": "python3"
  },
  "language_info": {
   "codemirror_mode": {
    "name": "ipython",
    "version": 3
   },
   "file_extension": ".py",
   "mimetype": "text/x-python",
   "name": "python",
   "nbconvert_exporter": "python",
   "pygments_lexer": "ipython3",
   "version": "3.7.0"
  }
 },
 "nbformat": 4,
 "nbformat_minor": 2
}
