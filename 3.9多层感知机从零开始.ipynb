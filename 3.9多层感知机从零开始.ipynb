{
 "cells": [
  {
   "cell_type": "markdown",
   "metadata": {},
   "source": [
    "# 导包"
   ]
  },
  {
   "cell_type": "code",
   "execution_count": null,
   "metadata": {},
   "outputs": [],
   "source": [
    "%matplotlib inline\n",
    "import d2lzh as d2l\n",
    "from mxnet import nd\n",
    "from mxnet.gluon import loss as gloss"
   ]
  },
  {
   "cell_type": "markdown",
   "metadata": {},
   "source": [
    "# 读取数据"
   ]
  },
  {
   "cell_type": "code",
   "execution_count": 3,
   "metadata": {},
   "outputs": [],
   "source": [
    "batch_size=256\n",
    "train_iter,test_iter=d2l.load_data_fashion_mnist(batch_size)"
   ]
  },
  {
   "cell_type": "markdown",
   "metadata": {},
   "source": [
    "# 定义模型参数"
   ]
  },
  {
   "cell_type": "code",
   "execution_count": 4,
   "metadata": {},
   "outputs": [],
   "source": [
    "num_inputs,num_hidden,num_outputs=784,256,10\n",
    "w1=nd.random.normal(scale=0.01,shape=(num_inputs,num_hidden))\n",
    "b1=nd.zeros(num_hidden)\n",
    "w2=nd.random.normal(scale=0.01,shape=(num_hidden,num_outputs))\n",
    "b2=nd.zeros(num_outputs)\n",
    "params=[w1,b1,w2,b2]\n",
    "\n",
    "for param in params:\n",
    "    param.attach_grad()"
   ]
  },
  {
   "cell_type": "markdown",
   "metadata": {},
   "source": [
    "# 定义激活函数"
   ]
  },
  {
   "cell_type": "code",
   "execution_count": 10,
   "metadata": {},
   "outputs": [],
   "source": [
    "def relu(x):\n",
    "    return nd.maximum(x,0)"
   ]
  },
  {
   "cell_type": "markdown",
   "metadata": {},
   "source": [
    "# 定义模型"
   ]
  },
  {
   "cell_type": "code",
   "execution_count": 6,
   "metadata": {},
   "outputs": [],
   "source": [
    "def net(x):\n",
    "    x=x.reshape((-1,num_inputs))\n",
    "    h=relu(nd.dot(x,w1)+b1)\n",
    "    return nd.dot(h,w2)+b2"
   ]
  },
  {
   "cell_type": "markdown",
   "metadata": {},
   "source": [
    "# 定义损失函数"
   ]
  },
  {
   "cell_type": "code",
   "execution_count": 7,
   "metadata": {},
   "outputs": [],
   "source": [
    "loss=gloss.SoftmaxCrossEntropyLoss()"
   ]
  },
  {
   "cell_type": "markdown",
   "metadata": {},
   "source": [
    "# 训练模型"
   ]
  },
  {
   "cell_type": "code",
   "execution_count": 12,
   "metadata": {},
   "outputs": [
    {
     "name": "stdout",
     "output_type": "stream",
     "text": [
      "epoch 1, loss 0.3556, train acc 0.869, test acc 0.859\n",
      "epoch 2, loss 0.3425, train acc 0.873, test acc 0.879\n",
      "epoch 3, loss 0.3325, train acc 0.876, test acc 0.877\n",
      "epoch 4, loss 0.3186, train acc 0.883, test acc 0.880\n",
      "epoch 5, loss 0.3102, train acc 0.885, test acc 0.884\n",
      "epoch 6, loss 0.3015, train acc 0.889, test acc 0.886\n",
      "epoch 7, loss 0.2953, train acc 0.890, test acc 0.885\n",
      "epoch 8, loss 0.2906, train acc 0.891, test acc 0.887\n",
      "epoch 9, loss 0.2797, train acc 0.896, test acc 0.886\n",
      "epoch 10, loss 0.2756, train acc 0.898, test acc 0.885\n"
     ]
    }
   ],
   "source": [
    "num_epochs,lr=10,0.5\n",
    "d2l.train_ch3(net,train_iter,test_iter,loss,num_epochs,batch_size,params,lr)"
   ]
  },
  {
   "cell_type": "code",
   "execution_count": null,
   "metadata": {},
   "outputs": [],
   "source": []
  }
 ],
 "metadata": {
  "kernelspec": {
   "display_name": "Python 3",
   "language": "python",
   "name": "python3"
  },
  "language_info": {
   "codemirror_mode": {
    "name": "ipython",
    "version": 3
   },
   "file_extension": ".py",
   "mimetype": "text/x-python",
   "name": "python",
   "nbconvert_exporter": "python",
   "pygments_lexer": "ipython3",
   "version": "3.7.0"
  }
 },
 "nbformat": 4,
 "nbformat_minor": 2
}
