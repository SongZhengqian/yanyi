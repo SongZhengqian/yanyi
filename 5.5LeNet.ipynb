{
 "cells": [
  {
   "cell_type": "code",
   "execution_count": 1,
   "metadata": {},
   "outputs": [],
   "source": [
    "import d2lzh as d2l\n",
    "import mxnet as mx\n",
    "from mxnet import autograd,gluon,init,nd\n",
    "from mxnet.gluon import loss as gloss,nn\n",
    "import time"
   ]
  },
  {
   "cell_type": "code",
   "execution_count": 2,
   "metadata": {},
   "outputs": [],
   "source": [
    "net = nn.Sequential()"
   ]
  },
  {
   "cell_type": "code",
   "execution_count": 4,
   "metadata": {},
   "outputs": [],
   "source": [
    "net.add(nn.Conv2D(channels=6,kernel_size=5,activation='sigmoid'),\n",
    "               nn.MaxPool2D(pool_size=2,strides=2),\n",
    "               nn.Conv2D(channels=16,kernel_size=5,activation='sigmoid'),\n",
    "               nn.MaxPool2D(pool_size=2,strides=2),\n",
    "               nn.Dense(120,activation='sigmoid'),\n",
    "               nn.Dense(84,activation='sigmoid'),\n",
    "               nn.Dense(10))"
   ]
  },
  {
   "cell_type": "code",
   "execution_count": 5,
   "metadata": {},
   "outputs": [
    {
     "name": "stdout",
     "output_type": "stream",
     "text": [
      "conv1 output shape:\t (1, 6, 24, 24)\n",
      "pool1 output shape:\t (1, 6, 12, 12)\n",
      "conv2 output shape:\t (1, 16, 8, 8)\n",
      "pool2 output shape:\t (1, 16, 4, 4)\n",
      "dense0 output shape:\t (1, 120)\n",
      "dense1 output shape:\t (1, 84)\n",
      "dense2 output shape:\t (1, 10)\n"
     ]
    }
   ],
   "source": [
    "x=nd.random.uniform(shape=(1,1,28,28))\n",
    "net.initialize()\n",
    "for layer in net:\n",
    "    x=layer(x)\n",
    "    print(layer.name, 'output shape:\\t',x.shape)"
   ]
  },
  {
   "cell_type": "code",
   "execution_count": 6,
   "metadata": {},
   "outputs": [],
   "source": [
    "batch_size=256\n",
    "train_iter,test_iter=d2l.load_data_fashion_mnist(batch_size=batch_size)"
   ]
  },
  {
   "cell_type": "code",
   "execution_count": 27,
   "metadata": {},
   "outputs": [],
   "source": [
    "def evaluate_acc(data_iter,net):\n",
    "    acc_sum,n=0.0,0\n",
    "    for x,y in data_iter:\n",
    "        y=y.astype('float32')\n",
    "        acc_sum+=(net(x).argmax(axis=1)==y).sum()\n",
    "        n+=y.size\n",
    "    return acc_sum.asscalar()/n"
   ]
  },
  {
   "cell_type": "code",
   "execution_count": 31,
   "metadata": {},
   "outputs": [],
   "source": [
    "def train_ch5(net,train_iter,test_iter,batch_szie,trainer,num_epochs):\n",
    "    loss=gloss.SoftmaxCrossEntropyLoss()\n",
    "    for epoch in range(num_epochs):\n",
    "        train_l_sum,train_acc_sum,n,start=0.0,0.0,0,time.time()\n",
    "        for x,y in train_iter:\n",
    "            with autograd.record():\n",
    "                y_hat=net(x)\n",
    "                l=loss(y_hat,y).sum()\n",
    "            l.backward()\n",
    "            trainer.step(batch_size)\n",
    "            y=y.astype('float32')\n",
    "            train_l_sum+=l.asscalar()\n",
    "            train_acc_sum+=(y_hat.argmax(axis=1)==y).sum().asscalar()\n",
    "            n+=y.size\n",
    "        test_acc=evaluate_acc(test_iter,net)\n",
    "        print('epoch %d,loss %.4f,train_acc %.3f,test_acc %.3f,''time %.1f sec'\n",
    "             %(epoch+1,train_l_sum/n,train_acc_sum/n,test_acc,time.time()-start))"
   ]
  },
  {
   "cell_type": "code",
   "execution_count": 32,
   "metadata": {},
   "outputs": [
    {
     "name": "stdout",
     "output_type": "stream",
     "text": [
      "epoch 1,loss 0.8357,train_acc 0.680,test_acc 0.717,time 31.9 sec\n",
      "epoch 2,loss 0.7073,train_acc 0.722,test_acc 0.742,time 32.6 sec\n",
      "epoch 3,loss 0.6459,train_acc 0.746,test_acc 0.770,time 34.0 sec\n",
      "epoch 4,loss 0.5866,train_acc 0.770,test_acc 0.788,time 32.2 sec\n",
      "epoch 5,loss 0.5456,train_acc 0.788,test_acc 0.809,time 32.0 sec\n"
     ]
    }
   ],
   "source": [
    "lr,num_epochs=0.9,5\n",
    "#net.initialize(force_reinit=True,init=init.Xavier())\n",
    "trainer=gluon.Trainer(net.collect_params(),'sgd',{'learning_rate':lr})\n",
    "train_ch5(net,train_iter,test_iter,batch_size,trainer,num_epochs)"
   ]
  },
  {
   "cell_type": "code",
   "execution_count": null,
   "metadata": {},
   "outputs": [],
   "source": []
  }
 ],
 "metadata": {
  "kernelspec": {
   "display_name": "Python 3",
   "language": "python",
   "name": "python3"
  },
  "language_info": {
   "codemirror_mode": {
    "name": "ipython",
    "version": 3
   },
   "file_extension": ".py",
   "mimetype": "text/x-python",
   "name": "python",
   "nbconvert_exporter": "python",
   "pygments_lexer": "ipython3",
   "version": "3.7.0"
  }
 },
 "nbformat": 4,
 "nbformat_minor": 2
}
